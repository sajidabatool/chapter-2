{
  "nbformat": 4,
  "nbformat_minor": 0,
  "metadata": {
    "colab": {
      "provenance": [],
      "authorship_tag": "ABX9TyP3NqVJDPpoFIn4Grgwhug1",
      "include_colab_link": true
    },
    "kernelspec": {
      "name": "python3",
      "display_name": "Python 3"
    },
    "language_info": {
      "name": "python"
    }
  },
  "cells": [
    {
      "cell_type": "markdown",
      "metadata": {
        "id": "view-in-github",
        "colab_type": "text"
      },
      "source": [
        "<a href=\"https://colab.research.google.com/github/sajidabatool/chapter-2/blob/main/Untitled12.ipynb\" target=\"_parent\"><img src=\"https://colab.research.google.com/assets/colab-badge.svg\" alt=\"Open In Colab\"/></a>"
      ]
    },
    {
      "cell_type": "code",
      "execution_count": null,
      "metadata": {
        "id": "mDHyxf_nPS4b"
      },
      "outputs": [],
      "source": []
    },
    {
      "cell_type": "markdown",
      "source": [
        "# Chapter 2\n",
        "**Question no 2.1**\n"
      ],
      "metadata": {
        "id": "6o-fsUf9PWTR"
      }
    },
    {
      "cell_type": "code",
      "source": [
        "a=\"Welcome to Python\"\n",
        "print(a)"
      ],
      "metadata": {
        "colab": {
          "base_uri": "https://localhost:8080/"
        },
        "id": "N8DoCcpCPtGc",
        "outputId": "6122bb10-5628-4c7b-c086-639a5abb22c6"
      },
      "execution_count": 1,
      "outputs": [
        {
          "output_type": "stream",
          "name": "stdout",
          "text": [
            "Welcome to Python\n"
          ]
        }
      ]
    },
    {
      "cell_type": "markdown",
      "source": [
        "Question no 2.2"
      ],
      "metadata": {
        "id": "GesaqsfgP-u5"
      }
    },
    {
      "cell_type": "code",
      "source": [
        "b=\"I am note interested in programming \"\n",
        "print(b)\n",
        "b=\"Because Programming is tough\"\n",
        "print(b)"
      ],
      "metadata": {
        "colab": {
          "base_uri": "https://localhost:8080/"
        },
        "id": "ZX76JUaHQFIp",
        "outputId": "dd62e968-a5e1-487b-d0d5-c1393ede1c43"
      },
      "execution_count": 2,
      "outputs": [
        {
          "output_type": "stream",
          "name": "stdout",
          "text": [
            "I am note interested in programming \n",
            "Because Programming is tough\n"
          ]
        }
      ]
    },
    {
      "cell_type": "markdown",
      "source": [
        "**Question no 2.3**\n"
      ],
      "metadata": {
        "id": "FY8nqfOXQtvd"
      }
    },
    {
      "cell_type": "code",
      "source": [
        "name_x=\"sajida\"\n",
        "print(\"hello \" +name_x+\",would you like some Python today\")"
      ],
      "metadata": {
        "colab": {
          "base_uri": "https://localhost:8080/"
        },
        "id": "YJg3-dsuQ0OT",
        "outputId": "50b4cc12-683d-4019-b343-0e7c4e8c1051"
      },
      "execution_count": 4,
      "outputs": [
        {
          "output_type": "stream",
          "name": "stdout",
          "text": [
            "hello sajida,would you like some Python today\n"
          ]
        }
      ]
    },
    {
      "cell_type": "markdown",
      "source": [
        "**Question no 2.4**"
      ],
      "metadata": {
        "id": "igRW9oLVSpyp"
      }
    },
    {
      "cell_type": "code",
      "source": [
        "y=\"Sajida Batool\"\n",
        "print(y.lower())\n",
        "print(y.upper())\n",
        "print(y.title())"
      ],
      "metadata": {
        "colab": {
          "base_uri": "https://localhost:8080/"
        },
        "id": "X1J0UISqS3N1",
        "outputId": "e19dc355-7622-435b-9aec-e3e53c7ea9ad"
      },
      "execution_count": 8,
      "outputs": [
        {
          "output_type": "stream",
          "name": "stdout",
          "text": [
            "sajida batool\n",
            "SAJIDA BATOOL\n",
            "Sajida Batool\n"
          ]
        }
      ]
    }
  ]
}